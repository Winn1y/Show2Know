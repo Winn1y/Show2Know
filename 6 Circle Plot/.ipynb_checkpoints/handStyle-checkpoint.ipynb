{
 "cells": [
  {
   "cell_type": "code",
   "execution_count": null,
   "id": "initial_id",
   "metadata": {
    "collapsed": true
   },
   "outputs": [],
   "source": []
  },
  {
   "cell_type": "code",
   "execution_count": 3,
   "id": "868d4d8206e395ef",
   "metadata": {
    "ExecuteTime": {
     "end_time": "2024-07-29T19:23:27.435749Z",
     "start_time": "2024-07-29T19:23:27.421199Z"
    }
   },
   "outputs": [
    {
     "name": "stderr",
     "output_type": "stream",
     "text": [
      "C:\\Users\\l\\AppData\\Local\\Temp\\ipykernel_27744\\2683223791.py:2: DeprecationWarning: Importing display from IPython.core.display is deprecated since IPython 7.14, please import from IPython display\n",
      "  from IPython.core.display import display\n"
     ]
    },
    {
     "data": {
      "text/html": [
       "<html>\n",
       "<body>\n",
       "\n",
       "<div id=09fa62aa74cb46f48f2b514836564815></div>\n",
       "\n",
       "<script src=\"https://requirejs.org/docs/release/2.3.6/minified/require.js\"></script>\n",
       "<script>\n",
       "require.config({paths: {roughViz: \"https://unpkg.com/rough-viz@1.0.5/dist/roughviz.min\"}});\n",
       "require([\"roughViz\"], function(roughViz) {\n",
       "\n",
       "new roughViz.Donut(\n",
       "  {\"labels\": null, \"values\": null, \"data\": {\"labels\": [\"Taking Head\", \"Pose-Guided Dance Video Generation\"], \"values\": [49, 17]}, \"title\": \"\", \"margin\": {\"top\": 50, \"right\": 20, \"bottom\": 70, \"left\": 100}, \"width\": 800, \"height\": 600, \"interactive\": true, \"bowing\": 0.2, \"fillStyle\": \"cross-hatch\", \"fillWeight\": 0, \"strokeWidth\": 1, \"roughness\": 1, \"tooltipFontSize\": \"0.95rem\", \"titleFontSize\": \"3rem\", \"font\": 0, \"highlight\": \"green\", \"innerStrokeWidth\": 0, \"simplification\": 0.2, \"padding\": 0.1, \"legend\": true, \"legendPosition\": \"right\", \"element\": \"#09fa62aa74cb46f48f2b514836564815\"}\n",
       ");\n",
       "\tvar text = document.querySelectorAll(\".xAxis09fa62aa74cb46f48f2b514836564815 .tick text\");\n",
       "\tvar i;\n",
       "\tfor (i = 0; i < text.length; i++) {\n",
       "\t\ttext[i].setAttribute(\"transform\", \"rotate(0)\");\n",
       "\t\ttext[i].style.textAnchor=\"middle\";\n",
       "\t}\n",
       "\tdocument.getElementById(\"09fa62aa74cb46f48f2b514836564815\").style.height = \"px\";\n",
       "\tdocument.querySelector(\"#09fa62aa74cb46f48f2b514836564815 svg\").style.height = \"px\";\n",
       "});\n",
       "</script>\n",
       "\n",
       "</body>\n",
       "</html>"
      ],
      "text/plain": [
       "<IPython.core.display.HTML object>"
      ]
     },
     "metadata": {},
     "output_type": "display_data"
    },
    {
     "data": {
      "text/plain": [
       "<roughviz.charts.donut.Donut at 0x19dd06e8400>"
      ]
     },
     "metadata": {},
     "output_type": "display_data"
    }
   ],
   "source": [
    "from roughviz.charts import Donut\n",
    "from IPython.core.display import display\n",
    "data = {\"labels\": ['Taking Head', 'Pose-Guided Dance Video Generation'], \"values\": [49, 17]}\n",
    "donut = Donut(data=data, title=\"\", title_fontsize=3)\n",
    "donut.show()\n",
    "display(donut)"
   ]
  },
  {
   "cell_type": "code",
   "execution_count": null,
   "id": "72856a701f27b7d4",
   "metadata": {},
   "outputs": [],
   "source": []
  }
 ],
 "metadata": {
  "hide_input": false,
  "kernelspec": {
   "display_name": "Python 3 (ipykernel)",
   "language": "python",
   "name": "python3"
  },
  "language_info": {
   "codemirror_mode": {
    "name": "ipython",
    "version": 3
   },
   "file_extension": ".py",
   "mimetype": "text/x-python",
   "name": "python",
   "nbconvert_exporter": "python",
   "pygments_lexer": "ipython3",
   "version": "3.8.10"
  },
  "toc": {
   "base_numbering": 1,
   "nav_menu": {},
   "number_sections": true,
   "sideBar": true,
   "skip_h1_title": false,
   "title_cell": "Table of Contents",
   "title_sidebar": "Contents",
   "toc_cell": false,
   "toc_position": {},
   "toc_section_display": true,
   "toc_window_display": false
  }
 },
 "nbformat": 4,
 "nbformat_minor": 5
}
